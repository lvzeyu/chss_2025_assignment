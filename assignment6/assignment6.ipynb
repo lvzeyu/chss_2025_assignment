{
 "cells": [
  {
   "cell_type": "markdown",
   "id": "08ce7524",
   "metadata": {},
   "source": [
    "$n$個のデータ$(x_1,y_1),...(x_n,y_n)$が観測され、各$y_i$が\n",
    "\n",
    "$$\n",
    "y_i=\\alpha +\\beta x_i+u_i,\\ i=1,...,n\n",
    "$$\n",
    "\n",
    "が得られます。\n",
    "\n",
    "最小二乗法による、\n",
    "$$\n",
    "\\hat{\\beta}=\\frac{\\sum_{i=1}^n (x_i-\\bar{x})(y_i-\\bar{y})}{\\sum_{i=1}^n (x_i-\\bar{x})^2}=\\frac{標本共分散(x_i,y_i)}{標本分散(x_i)}\n",
    "$$\n",
    "\n",
    "$$\n",
    "\\hat{\\alpha}=\\hat{y}-\\hat{\\beta}\\bar{x}\n",
    "$$\n",
    "\n",
    "で回帰モデルの係数を推定することができる。"
   ]
  },
  {
   "cell_type": "markdown",
   "id": "4be830e8",
   "metadata": {},
   "source": [
    "以下は、仮想データを作成し、回帰モデルの係数推定式によって計算した結果が真の値にどれほど近づくかを検証するためのコードである\n",
    "このコードに基づいて、課題に解答しなさい。"
   ]
  },
  {
   "cell_type": "code",
   "execution_count": 2,
   "id": "73e67af3",
   "metadata": {},
   "outputs": [],
   "source": [
    "# 線形回帰モデルのデータをシミュレーションで生成します\n",
    "import numpy as np\n",
    "\n",
    "# サンプルデータ\n",
    "# パラメータ\n",
    "beta_0 = 2.5  # 切片\n",
    "beta_1 = 0.8  # 傾き\n",
    "n = 100  # データ数\n",
    "\n",
    "# 説明変数を一様分布から生成\n",
    "x = np.random.uniform(low=0, high=10, size=n)\n",
    "\n",
    "# ノイズ項を標準正規分布から生成\n",
    "epsilon = np.random.normal(loc=0, scale=1, size=n)\n",
    "\n",
    "# 目的変数を生成\n",
    "y = beta_0 + beta_1 * x + epsilon"
   ]
  },
  {
   "cell_type": "code",
   "execution_count": 3,
   "id": "1df27464",
   "metadata": {},
   "outputs": [
    {
     "name": "stdout",
     "output_type": "stream",
     "text": [
      "beta:  0.823481103136274\n",
      "alpha:  2.471159826636163\n"
     ]
    }
   ],
   "source": [
    "# パラメータの推定\n",
    "x_mean = np.mean(x)\n",
    "y_mean = np.mean(y)\n",
    "\n",
    "# β₁の推定\n",
    "numerator = np.sum((x - x_mean) * (y - y_mean))\n",
    "denominator = np.sum((x - x_mean) ** 2)\n",
    "beta = numerator / denominator\n",
    "print(\"beta: \", beta)\n",
    "# β₀の推定\n",
    "alpha = y_mean - beta * x_mean\n",
    "\n",
    "print(\"alpha: \", alpha)"
   ]
  },
  {
   "cell_type": "markdown",
   "id": "97148b05",
   "metadata": {},
   "source": [
    "# 課題1\n",
    "\n",
    "母集団回帰係数、誤差項とサンプルサイズを指定し、観測データ($x$,$y$)を生成する関数を作成しなさい"
   ]
  },
  {
   "cell_type": "code",
   "execution_count": 1,
   "id": "2be0300f",
   "metadata": {},
   "outputs": [],
   "source": [
    "import numpy as np\n",
    "\n",
    "def generate_linear_data(beta_0, beta_1, sigma, n, x_low=0, x_high=10):\n",
    "    \"\"\"\n",
    "    線形回帰モデルの観測データを生成する関数\n",
    "\n",
    "    Parameters:\n",
    "    beta_0 (float): 切片 (母集団回帰係数)\n",
    "    beta_1 (float): 傾き (母集団回帰係数)\n",
    "    sigma (float): 誤差項の標準偏差\n",
    "    n (int): サンプルサイズ\n",
    "    x_low (float): xの下限 (デフォルト=0)\n",
    "    x_high (float): xの上限 (デフォルト=10)\n",
    "\n",
    "    Returns:\n",
    "    x (ndarray): 説明変数\n",
    "    y (ndarray): 目的変数\n",
    "    \"\"\"\n",
    "    # 説明変数xを一様分布から生成\n",
    "    x = np.random.uniform(low=x_low, high=x_high, size=n)\n",
    "    \n",
    "    # 誤差項epsilonを正規分布から生成\n",
    "    epsilon = np.random.normal(loc=0, scale=sigma, size=n)\n",
    "    \n",
    "    # 目的変数yを生成\n",
    "    y = beta_0 + beta_1 * x + epsilon\n",
    "    \n",
    "    return x, y\n"
   ]
  },
  {
   "cell_type": "code",
   "execution_count": 2,
   "id": "3fe633fb",
   "metadata": {},
   "outputs": [
    {
     "name": "stdout",
     "output_type": "stream",
     "text": [
      "[2.68089468 5.6515672  5.19137116 9.85812872 3.54072826 2.01061924\n",
      " 1.18965911 3.6736297  3.97171934 4.58858935 6.47259163 8.97405239\n",
      " 5.53830747 2.36583791 4.91614151 0.14744528 0.38742845 0.35523522\n",
      " 8.67970182 4.87081679 4.70172226 6.11345381 4.08882769 6.83506727\n",
      " 7.01392297 5.70120195 7.98218822 5.09331172 5.0933996  4.08207437\n",
      " 7.33088394 3.63549974 3.48160843 5.858098   0.68140929 1.07749555\n",
      " 8.39464486 2.80001755 2.48818562 4.39676987 8.77193318 8.23164154\n",
      " 0.4398754  3.50151502 3.29486903 6.39724821 4.64932455 6.82650086\n",
      " 8.97915797 3.04799443 7.00471321 1.59164585 0.41032638 6.12579714\n",
      " 9.0730892  7.8011763  8.33874746 2.65159567 3.88904466 2.66823859\n",
      " 8.22642705 0.1455985  0.70983012 9.16991957 5.46445261 0.1891081\n",
      " 0.32383328 8.71500424 1.45465099 1.34959718 7.99924744 1.11346294\n",
      " 3.70797066 3.54151797 3.85165272 2.15071597 9.01156071 1.55042425\n",
      " 4.87472673 1.19771434 7.00436826 5.85578532 5.13184867 6.49285902\n",
      " 2.49307546 3.82894974 6.29509576 1.82690061 1.9505495  7.4306592\n",
      " 3.34046841 1.3314226  0.9231617  2.88603266 4.91126479 5.43931489\n",
      " 4.32481053 0.72656827 8.02617609 3.90248417] [ 3.86905474  6.57952654  6.45829247 10.14951977  3.55368024  3.64401914\n",
      "  3.41788184  5.84407886  4.43541507  6.73600625  6.98412827 11.13375416\n",
      "  7.00794693  5.30661478  6.19296818  3.49024768  2.61020596  1.44955179\n",
      "  9.7329668   6.09948928  5.53229017  6.60289055  4.95622511  8.69997713\n",
      "  8.20636313  5.35424862  9.85219549  7.15885564  6.62354961  6.00407682\n",
      "  8.73985143  4.04135342  5.81287212  6.9540965   4.66904752  3.12967971\n",
      "  9.94378434  4.18918168  3.16226087  5.74194169  9.04131558  9.35326624\n",
      "  5.45169176  5.33604827  5.12785907  7.16314654  4.9666358   7.78275058\n",
      "  9.34308884  4.88455865  8.18496947  4.58752715  5.35262254  5.36691881\n",
      " 10.89429392  8.51640605  9.19947441  3.30126839  7.50511772  5.05310506\n",
      " 10.08011467  2.45815253  3.55179449 10.81538806  7.31503152  2.66471954\n",
      "  1.11937602  8.23408661  3.06451686  2.66812119  9.2256247   3.92533682\n",
      "  6.53583215  6.01253476  4.06489086  4.92645466  9.67339211  4.3967714\n",
      "  7.20952091  5.26868909  7.32557193  5.57391608  5.99346551  6.7884658\n",
      "  4.81859809  6.29857552  5.55167667  4.42644611  6.33573983  8.71989385\n",
      "  4.00290832  2.63415455  3.12739308  4.51121642  7.42494335  6.14790858\n",
      "  5.47451987  3.30631242  9.52223061  5.85697615]\n"
     ]
    }
   ],
   "source": [
    "x, y = generate_linear_data(beta_0=2.5, beta_1=0.8, sigma=1.0, n=100)\n",
    "print(x,y)"
   ]
  },
  {
   "cell_type": "markdown",
   "id": "4e971945",
   "metadata": {},
   "source": [
    "# 課題2\n",
    "\n",
    "観測データ($x$,$y$)で、最小二乗法で回帰係数を推定する関数を作成しなさい"
   ]
  },
  {
   "cell_type": "code",
   "execution_count": 3,
   "id": "37986581",
   "metadata": {},
   "outputs": [],
   "source": [
    "import numpy as np\n",
    "\n",
    "def estimate_ols(x, y):\n",
    "    \"\"\"\n",
    "    最小二乗法による単回帰モデルの回帰係数推定\n",
    "    \n",
    "    Parameters:\n",
    "    x (ndarray): 説明変数\n",
    "    y (ndarray): 目的変数\n",
    "    \n",
    "    Returns:\n",
    "    alpha_hat (float): 推定された切片（α）\n",
    "    beta_hat (float): 推定された傾き（β）\n",
    "    \"\"\"\n",
    "    x_mean = np.mean(x)\n",
    "    y_mean = np.mean(y)\n",
    "\n",
    "    # 傾き（β）の推定\n",
    "    numerator = np.sum((x - x_mean) * (y - y_mean))\n",
    "    denominator = np.sum((x - x_mean) ** 2)\n",
    "    beta_hat = numerator / denominator\n",
    "\n",
    "    # 切片（α）の推定\n",
    "    alpha_hat = y_mean - beta_hat * x_mean\n",
    "\n",
    "    return alpha_hat, beta_hat"
   ]
  },
  {
   "cell_type": "code",
   "execution_count": 4,
   "id": "7f04cac6",
   "metadata": {},
   "outputs": [
    {
     "name": "stdout",
     "output_type": "stream",
     "text": [
      "推定された切片 (alpha): 2.8744356898363144\n",
      "推定された傾き (beta): 0.7504703943806673\n"
     ]
    }
   ],
   "source": [
    "x, y = generate_linear_data(beta_0=2.5, beta_1=0.8, sigma=1.0, n=100)\n",
    "\n",
    "# 回帰係数推定\n",
    "alpha_hat, beta_hat = estimate_ols(x, y)\n",
    "\n",
    "print(\"推定された切片 (alpha):\", alpha_hat)\n",
    "print(\"推定された傾き (beta):\", beta_hat)"
   ]
  },
  {
   "cell_type": "markdown",
   "id": "16a671fc",
   "metadata": {},
   "source": [
    "# 課題3\n",
    "\n",
    "- 一定な母集団回帰係数、誤差項サンプルサイズを設定し、観測データを作成し、回帰係数を推定するといった推定プロセスを100回を行いなさい。\n",
    "- 毎回の推定値を格納し、その平均と標準偏差を計算しなさい。\n",
    "- サンプルサイズが $20, 50, 100, 200, 500,1000$である場合、推定値の平均と標準偏差を比較しなさい"
   ]
  },
  {
   "cell_type": "code",
   "execution_count": 5,
   "id": "d5bdd12a",
   "metadata": {},
   "outputs": [
    {
     "name": "stdout",
     "output_type": "stream",
     "text": [
      " Sample Size |   Mean of β̂ |    Std of β̂\n",
      "----------------------------------------\n",
      "          20 |      0.81734 |      0.08540\n",
      "          50 |      0.79686 |      0.05109\n",
      "         100 |      0.80157 |      0.03241\n",
      "         200 |      0.80309 |      0.02359\n",
      "         500 |      0.79731 |      0.01333\n",
      "        1000 |      0.80020 |      0.01151\n"
     ]
    },
    {
     "data": {
      "image/png": "[encoded data removed]",
      "text/plain": [
       "<Figure size 640x480 with 1 Axes>"
      ]
     },
     "metadata": {},
     "output_type": "display_data"
    }
   ],
   "source": [
    "import numpy as np\n",
    "import matplotlib.pyplot as plt\n",
    "\n",
    "# 1. データ生成関数\n",
    "def generate_linear_data(beta_0, beta_1, sigma, n, x_low=0, x_high=10):\n",
    "    x = np.random.uniform(low=x_low, high=x_high, size=n)\n",
    "    epsilon = np.random.normal(loc=0, scale=sigma, size=n)\n",
    "    y = beta_0 + beta_1 * x + epsilon\n",
    "    return x, y\n",
    "\n",
    "# 2. 最小二乗法による回帰係数推定関数\n",
    "def estimate_ols(x, y):\n",
    "    x_mean = np.mean(x)\n",
    "    y_mean = np.mean(y)\n",
    "    beta_hat = np.sum((x - x_mean) * (y - y_mean)) / np.sum((x - x_mean) ** 2)\n",
    "    alpha_hat = y_mean - beta_hat * x_mean\n",
    "    return alpha_hat, beta_hat\n",
    "\n",
    "# 3. シミュレーション設定\n",
    "beta_0_true = 2.5  # 真の切片\n",
    "beta_1_true = 0.8  # 真の傾き\n",
    "sigma_true = 1.0   # 誤差項の標準偏差\n",
    "n_trials = 100     # 推定を繰り返す回数\n",
    "\n",
    "# サンプルサイズのリスト\n",
    "sample_sizes = [20, 50, 100, 200, 500, 1000]\n",
    "\n",
    "# 結果格納用リスト\n",
    "results = []\n",
    "\n",
    "# 4. 各サンプルサイズごとにシミュレーションを実行\n",
    "for n in sample_sizes:\n",
    "    beta_estimates = []\n",
    "\n",
    "    for _ in range(n_trials):\n",
    "        x, y = generate_linear_data(beta_0=beta_0_true, beta_1=beta_1_true, sigma=sigma_true, n=n)\n",
    "        _, beta_hat = estimate_ols(x, y)\n",
    "        beta_estimates.append(beta_hat)\n",
    "    \n",
    "    # 推定値の平均と標準偏差を計算\n",
    "    beta_mean = np.mean(beta_estimates)\n",
    "    beta_std = np.std(beta_estimates)\n",
    "    \n",
    "    results.append((n, beta_mean, beta_std))\n",
    "\n",
    "# 5. 結果表示\n",
    "print(f\"{'Sample Size':>12} | {'Mean of β̂':>12} | {'Std of β̂':>12}\")\n",
    "print(\"-\" * 40)\n",
    "for n, beta_mean, beta_std in results:\n",
    "    print(f\"{n:>12} | {beta_mean:>12.5f} | {beta_std:>12.5f}\")\n",
    "\n",
    "# 6. 可視化（標準偏差の推移）\n",
    "sample_sizes_arr = np.array(sample_sizes)\n",
    "std_arr = np.array([r[2] for r in results])\n",
    "\n",
    "plt.plot(sample_sizes_arr, std_arr, marker='o')\n",
    "plt.xscale('log')\n",
    "plt.xlabel(\"Sample Size (log scale)\")\n",
    "plt.ylabel(\"Standard Deviation of β̂\")\n",
    "plt.title(\"Sample Size vs. Std of Estimated β\")\n",
    "plt.grid(True)\n",
    "plt.show()"
   ]
  },
  {
   "cell_type": "markdown",
   "id": "68396b98",
   "metadata": {},
   "source": []
  }
 ],
 "metadata": {
  "kernelspec": {
   "display_name": "base",
   "language": "python",
   "name": "python3"
  },
  "language_info": {
   "codemirror_mode": {
    "name": "ipython",
    "version": 3
   },
   "file_extension": ".py",
   "mimetype": "text/x-python",
   "name": "python",
   "nbconvert_exporter": "python",
   "pygments_lexer": "ipython3",
   "version": "3.12.7"
  }
 },
 "nbformat": 4,
 "nbformat_minor": 5
}
