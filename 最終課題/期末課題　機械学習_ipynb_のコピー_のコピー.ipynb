{
  "nbformat": 4,
  "nbformat_minor": 0,
  "metadata": {
    "colab": {
      "provenance": []
    },
    "kernelspec": {
      "name": "python3",
      "display_name": "Python 3"
    },
    "language_info": {
      "name": "python"
    }
  },
  "cells": [
    {
      "cell_type": "code",
      "source": [
        "# ライブラリの読み込み\n",
        "import pandas as pd\n",
        "import matplotlib.pyplot as plt\n",
        "import seaborn as sns\n",
        "from sklearn.model_selection import train_test_split\n",
        "from sklearn.ensemble import RandomForestRegressor\n",
        "from sklearn.metrics import mean_squared_error\n",
        "\n",
        "# ファイル読み込み（Data/ に入ってる前提）\n",
        "income_df = pd.read_csv(\"Data/income_district.csv\")\n",
        "\n",
        "# 国勢調査系のCSVを全部読み込む（リストにまとめて）\n",
        "file_names = [\n",
        "    \"h27_age_df.csv\", \"h27_family_df.csv\", \"h27_gender_df.csv\",\n",
        "    \"h27_house_df.csv\", \"h27_house_info_df.csv\", \"h27_industry_df.csv\",\n",
        "    \"h27_job_df.csv\", \"h27_labor_df.csv\", \"h27_marriage_df.csv\", \"h27_work_status_df.csv\"\n",
        "]\n",
        "\n",
        "# 読み込み＆マージ\n",
        "dfs = [pd.read_csv(f\"Data/{file}\") for file in file_names]\n",
        "\n",
        "# すべてdistrict_codeでマージ\n",
        "from functools import reduce\n",
        "census_merged = reduce(lambda left, right: pd.merge(left, right, on=\"district_code\"), dfs)\n",
        "\n",
        "# 最後に収入データをマージ\n",
        "full_df = pd.merge(income_df, census_merged, on=\"district_code\")\n",
        "\n",
        "# 不要な列（地区名など）削除\n",
        "full_df = full_df.drop(columns=[\"district_name\"], errors=\"ignore\")\n",
        "\n",
        "# 欠損があれば削除\n",
        "full_df = full_df.dropna()\n",
        "\n",
        "# 説明変数と目的変数に分割\n",
        "X = full_df.drop(columns=[\"income\", \"district_code\"])\n",
        "y = full_df[\"income\"]\n",
        "\n",
        "# 相関ヒートマップでざっくり確認\n",
        "plt.figure(figsize=(10, 8))\n",
        "sns.heatmap(full_df.corr(numeric_only=True), cmap=\"coolwarm\", vmax=1.0, vmin=-1.0)\n",
        "plt.title(\"収入との相関ヒートマップ\")\n",
        "plt.show()\n",
        "\n",
        "# 学習と評価\n",
        "X_train, X_test, y_train, y_test = train_test_split(X, y, test_size=0.2, random_state=42)\n",
        "model = RandomForestRegressor(random_state=42)\n",
        "model.fit(X_train, y_train)\n",
        "y_pred = model.predict(X_test)\n",
        "mse = mean_squared_error(y_test, y_pred)\n",
        "print(f\"平均二乗誤差（MSE）：{mse:.2f}\")\n"
      ],
      "metadata": {
        "id": "chpb_RfwZUSS"
      },
      "execution_count": null,
      "outputs": []
    }
  ]
}