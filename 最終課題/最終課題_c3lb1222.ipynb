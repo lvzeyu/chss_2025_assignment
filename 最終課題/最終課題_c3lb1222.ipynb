{
  "cells": [
    {
      "cell_type": "markdown",
      "metadata": {
        "id": "muK9vLS-4xnP"
      },
      "source": [
        "\n",
        "# 小地域の収入推定\n",
        "\n",
        "```Data```フォルダには、小地域の収入データ(```income_district.csv```)と国勢調査の小地域集計データが格納されています。\n",
        "\n",
        "国勢調査の小地域集計データ（人口構成、労働力構成、住宅形態など）から、その地域の収入を推定することが考えられます。推定のための機械学習・深層学習モデルを構築しなさい。\n",
        "\n",
        "\n",
        "- データを観察・理解する上で、データの構造を説明しながら、適切なデータ整形を行いなさい\n",
        "- データ構造や分析結果に対して、少なくとも二つの図で可視化を行いなさい\n",
        "- モデルの精度を評価し、できるだけ精度が高いモデルを得るよう、適切な特徴量エンジニアリングやモデル選定の考えもまとめなさい\n"
      ]
    },
    {
      "cell_type": "code",
      "execution_count": 4,
      "metadata": {
        "id": "2tka9SlC4xnR",
        "colab": {
          "base_uri": "https://localhost:8080/"
        },
        "outputId": "e2794e17-586b-4aae-d8a8-3e125922e9bc"
      },
      "outputs": [
        {
          "output_type": "stream",
          "name": "stdout",
          "text": [
            "income\n",
            "   area_code  income_mean\n",
            "0      13228   480.984419\n",
            "1      43514   439.775281\n",
            "2      23237   487.507769\n",
            "3      18208   505.495103\n",
            "4      12238   385.423846\n"
          ]
        }
      ],
      "source": [
        "import pandas as pd\n",
        "import numpy as np\n",
        "\n",
        "url = \"https://github.com/lvzeyu/chss_2025_assignment/raw/refs/heads/main/%E6%9C%80%E7%B5%82%E8%AA%B2%E9%A1%8C/Data/income_district.csv\"\n",
        "income_df = pd.read_csv(url)\n",
        "print(income_df.head())"
      ]
    },
    {
      "cell_type": "code",
      "source": [
        "url = \"https://github.com/lvzeyu/chss_2025_assignment/raw/refs/heads/main/%E6%9C%80%E7%B5%82%E8%AA%B2%E9%A1%8C/Data/h27_work_status_df.csv\"\n",
        "work_df = pd.read_csv(url)\n",
        "print(work_df.head())"
      ],
      "metadata": {
        "colab": {
          "base_uri": "https://localhost:8080/"
        },
        "id": "SAaUEciF3rUn",
        "outputId": "0907f4c0-9ceb-478f-8821-442e32f90e98"
      },
      "execution_count": 9,
      "outputs": [
        {
          "output_type": "stream",
          "name": "stdout",
          "text": [
            "   district_id  district2_id  level_identifier state_name city_name  \\\n",
            "0        37201           NaN                 1        香川県       高松市   \n",
            "1        37201          10.0                 2        香川県       高松市   \n",
            "2        37201          20.0                 2        香川県       高松市   \n",
            "3        37201          30.0                 2        香川県       高松市   \n",
            "4        37201        3000.0                 3        香川県       高松市   \n",
            "\n",
            "  district_name district2_name employer_male self_employed_male  \\\n",
            "0           NaN            NaN         91038              11731   \n",
            "1           塩屋町            NaN            30                  7   \n",
            "2           築地町            NaN           144                 25   \n",
            "3           塩上町            NaN           284                 53   \n",
            "4           塩上町            NaN            14                  5   \n",
            "\n",
            "  family_work_male unkonwn_status_male employer_female self_employed_female  \\\n",
            "0              957                2525           75462                 3823   \n",
            "1                1                   -              26                    2   \n",
            "2                2                  11             116                   16   \n",
            "3                6                  13             212                   24   \n",
            "4                1                   -              16                    2   \n",
            "\n",
            "  family_work_female unkonwn_status_female  \n",
            "0               4209                  1684  \n",
            "1                  3                     1  \n",
            "2                  9                     2  \n",
            "3                 16                    11  \n",
            "4                  2                     2  \n"
          ]
        }
      ]
    },
    {
      "cell_type": "code",
      "source": [
        "#データ整形\n",
        "# ↓ 文字列の \"-\" や NaN を 0 に置き換え、数値型に変換\n",
        "columns_to_clean = [\n",
        "    \"employer_male\", \"self_employed_male\", \"family_work_male\", \"unkonwn_status_male\",\n",
        "    \"employer_female\", \"self_employed_female\", \"family_work_female\", \"unkonwn_status_female\"]\n",
        "\n",
        "for col in columns_to_clean:\n",
        "    work_df[col] = work_df[col].replace(['-', '－', '―', 'ー', '△', ' '], \"0\")  # ハイフンを0に\n",
        "    work_df[col] = pd.to_numeric(work_df[col], errors='coerce').fillna(0).astype(int)\n",
        "\n",
        "# ↓ 男女合算の列を追加\n",
        "work_df[\"employer_total\"] = work_df[\"employer_male\"] + work_df[\"employer_female\"]\n",
        "work_df[\"self_employed_total\"] = work_df[\"self_employed_male\"] + work_df[\"self_employed_female\"]\n",
        "work_df[\"family_work_total\"] = work_df[\"family_work_male\"] + work_df[\"family_work_female\"]\n",
        "work_df[\"unknown_status_total\"] = work_df[\"unkonwn_status_male\"] + work_df[\"unkonwn_status_female\"]\n",
        "\n",
        "# ↓ 合計就業者数\n",
        "work_df[\"total_workers\"] = (\n",
        "    work_df[\"employer_total\"] + work_df[\"self_employed_total\"] +\n",
        "    work_df[\"family_work_total\"] + work_df[\"unknown_status_total\"])\n",
        "\n",
        "# ↓ 地域名結合カラム（他データと合わせやすく）\n",
        "work_df['region_name'] = (\n",
        "    work_df['state_name'] +\n",
        "    work_df['city_name'] +\n",
        "    work_df['district_name'].fillna('') +\n",
        "    work_df['district2_name'].fillna(''))\n",
        "\n",
        "# ↓ 必要な列だけ残す（他データと結合しやすい形式に）（男女の区別は小地域の収入予想には関係しなさそう）\n",
        "final_work_df = work_df[[\n",
        "    'district_id', 'district2_id', 'region_name',\n",
        "    'employer_total', 'self_employed_total', 'family_work_total',\n",
        "    'total_workers']]\n",
        "\n",
        "print(final_work_df.head())"
      ],
      "metadata": {
        "colab": {
          "base_uri": "https://localhost:8080/"
        },
        "id": "or6XOoz2NFyC",
        "outputId": "562dd7b8-fcc7-42ae-81d8-c9388924f8ed"
      },
      "execution_count": 10,
      "outputs": [
        {
          "output_type": "stream",
          "name": "stdout",
          "text": [
            "   district_id  district2_id region_name  employer_total  self_employed_total  \\\n",
            "0        37201           NaN      香川県高松市          166500                15554   \n",
            "1        37201          10.0   香川県高松市塩屋町              56                    9   \n",
            "2        37201          20.0   香川県高松市築地町             260                   41   \n",
            "3        37201          30.0   香川県高松市塩上町             496                   77   \n",
            "4        37201        3000.0   香川県高松市塩上町              30                    7   \n",
            "\n",
            "   family_work_total  total_workers  \n",
            "0               5166         191429  \n",
            "1                  4             70  \n",
            "2                 11            325  \n",
            "3                 22            619  \n",
            "4                  3             42  \n"
          ]
        }
      ]
    },
    {
      "cell_type": "code",
      "source": [
        "url = \"https://github.com/lvzeyu/chss_2025_assignment/raw/refs/heads/main/%E6%9C%80%E7%B5%82%E8%AA%B2%E9%A1%8C/Data/h27_age_df.csv\"\n",
        "age_df = pd.read_csv(url)\n",
        "print(age_df.head())"
      ],
      "metadata": {
        "colab": {
          "base_uri": "https://localhost:8080/"
        },
        "id": "irEBeuP35_MC",
        "outputId": "21dd8846-3595-49b5-ca6c-93af1451a10a"
      },
      "execution_count": 12,
      "outputs": [
        {
          "output_type": "stream",
          "name": "stdout",
          "text": [
            "   district_id  district2_id  level_identifier state_name city_name  \\\n",
            "0        45201           NaN                 1        宮崎県       宮崎市   \n",
            "1        45201          10.0                 2        宮崎県       宮崎市   \n",
            "2        45201        1001.0                 3        宮崎県       宮崎市   \n",
            "3        45201        1002.0                 3        宮崎県       宮崎市   \n",
            "4        45201        1003.0                 3        宮崎県       宮崎市   \n",
            "\n",
            "  district_name district2_name  10-14  15-19  20-24  ... 55-59_female  \\\n",
            "0           NaN            NaN  19220  20777  17510  ...        13420   \n",
            "1           橘通西            NaN     32     56     61  ...           35   \n",
            "2           橘通西            １丁目      9      6     11  ...           15   \n",
            "3           橘通西            ２丁目      2     10     18  ...            4   \n",
            "4           橘通西            ３丁目      -      1      -  ...            1   \n",
            "\n",
            "  60-64_female 65-69_female 70-74_female 75-79_female 80-84_female  \\\n",
            "0        15035        16040        11697        10052         9160   \n",
            "1           47           43           44           20           16   \n",
            "2           15           16           14            7            7   \n",
            "3           10           11           14            2            2   \n",
            "4            -            -            2            -            1   \n",
            "\n",
            "  85-89_female 90-94_female 95-99_female 100_female  \n",
            "0         6430         3357         1021        208  \n",
            "1            9            5            3          1  \n",
            "2            4            3            -          -  \n",
            "3            3            1            3          1  \n",
            "4            -            -            -          -  \n",
            "\n",
            "[5 rows x 68 columns]\n"
          ]
        }
      ]
    },
    {
      "cell_type": "code",
      "source": [
        "#データ整形\n",
        "# 数値に変換すべき列を自動抽出（年齢カラムだけ）\n",
        "age_cols = age_df.columns[7:]  # 最初の7列は識別子系\n",
        "\n",
        "# ハイフンや空白を0にして、文字列を整数に変換\n",
        "for col in age_cols:\n",
        "    age_df[col] = age_df[col].replace(['-', '－', '―', 'ー', '△', ' '], '0')  # ハイフンなどを0に\n",
        "    age_df[col] = pd.to_numeric(age_df[col], errors='coerce').fillna(0).astype(int)\n",
        "\n",
        "# 全人口の合計（男性+女性）を合算\n",
        "age_df['total_population'] = age_df[age_cols].sum(axis=1)\n",
        "\n",
        "# 女性カラムだけ合算\n",
        "female_cols = [col for col in age_cols if 'female' in col]\n",
        "age_df['female_population'] = age_df[female_cols].sum(axis=1)\n",
        "\n",
        "# 地域コードが float（NaNあり）になってるので整数化\n",
        "age_df['district2_id'] = age_df['district2_id'].fillna(0).astype(int).astype(str).str.zfill(4)\n",
        "\n",
        "# 地域名の統一表記\n",
        "age_df['full_district'] = age_df['state_name'] + age_df['city_name'] + age_df['district_name'].fillna('') + age_df['district2_name'].fillna('')\n",
        "\n",
        "drop_cols = ['state_name', 'city_name', 'district_name', 'district2_name']\n",
        "age_df = age_df.drop(columns=drop_cols)\n",
        "print(age_df.head())"
      ],
      "metadata": {
        "colab": {
          "base_uri": "https://localhost:8080/"
        },
        "id": "L_W_tgFvJRCp",
        "outputId": "d38a204e-3b6f-4d5a-c518-c39e8d87c06d"
      },
      "execution_count": 13,
      "outputs": [
        {
          "output_type": "stream",
          "name": "stdout",
          "text": [
            "   district_id district2_id  level_identifier  10-14  15-19  20-24  25-29  \\\n",
            "0        45201         0000                 1  19220  20777  17510  18611   \n",
            "1        45201         0010                 2     32     56     61     60   \n",
            "2        45201         1001                 3      9      6     11     10   \n",
            "3        45201         1002                 3      2     10     18     12   \n",
            "4        45201         1003                 3      0      1      0      0   \n",
            "\n",
            "   30-34  35-39  40-44  ...  70-74_female  75-79_female  80-84_female  \\\n",
            "0  22131  26144  29081  ...         11697         10052          9160   \n",
            "1     64     74     99  ...            44            20            16   \n",
            "2     23     16     23  ...            14             7             7   \n",
            "3      7     19     14  ...            14             2             2   \n",
            "4      0      0      0  ...             2             0             1   \n",
            "\n",
            "   85-89_female  90-94_female  95-99_female  100_female  total_population  \\\n",
            "0          6430          3357          1021         208            752589   \n",
            "1             9             5             3           1              2034   \n",
            "2             4             3             0           0               516   \n",
            "3             3             1             3           1               394   \n",
            "4             0             0             0           0                26   \n",
            "\n",
            "   female_population  full_district  \n",
            "0             210092         宮崎県宮崎市  \n",
            "1                579      宮崎県宮崎市橘通西  \n",
            "2                161   宮崎県宮崎市橘通西１丁目  \n",
            "3                108   宮崎県宮崎市橘通西２丁目  \n",
            "4                  6   宮崎県宮崎市橘通西３丁目  \n",
            "\n",
            "[5 rows x 67 columns]\n"
          ]
        }
      ]
    },
    {
      "cell_type": "code",
      "source": [
        "#3つのデータを結合\n",
        "final_work_df['district_id'] = final_work_df['district_id'].astype(int).astype(str)\n",
        "final_work_df['district2_id'] = final_work_df['district2_id'].fillna(0).astype(int).astype(str)\n",
        "\n",
        "age_df['district_id'] = age_df['district_id'].astype(int).astype(str)\n",
        "age_df['district2_id'] = age_df['district2_id'].fillna(0).astype(int).astype(str)\n",
        "\n",
        "income_df['area_code'] = income_df['area_code'].astype(str)\n",
        "\n",
        "# 地域コードの作成\n",
        "final_work_df['area_code'] = final_work_df['district_id'] + final_work_df['district2_id']\n",
        "age_df['area_code'] = age_df['district_id'] + age_df['district2_id']\n",
        "\n",
        "# work_status と age をマージ\n",
        "merged_df = pd.merge(\n",
        "    final_work_df,\n",
        "    age_df,\n",
        "    on='area_code',\n",
        "    how='inner',\n",
        "    suffixes=('_work', '_age')\n",
        ")\n",
        "\n",
        "print(\"final_work_status + age merge:\", merged_df.shape)\n",
        "\n",
        "# さらに income とマージ\n",
        "final_df = pd.merge(\n",
        "    merged_df,\n",
        "    income_df,\n",
        "    on='area_code',\n",
        "    how='inner'\n",
        ")\n",
        "\n",
        "print(\"Final merged shape:\", final_df.shape)\n",
        "\n",
        "# データ確認\n",
        "print(final_df.head())"
      ],
      "metadata": {
        "colab": {
          "base_uri": "https://localhost:8080/"
        },
        "id": "NuKlNn9D0K4W",
        "outputId": "4ce5b7b8-497a-4df4-9549-85a6b050cd13"
      },
      "execution_count": 7,
      "outputs": [
        {
          "output_type": "stream",
          "name": "stderr",
          "text": [
            "/tmp/ipython-input-2642120230.py:1: SettingWithCopyWarning: \n",
            "A value is trying to be set on a copy of a slice from a DataFrame.\n",
            "Try using .loc[row_indexer,col_indexer] = value instead\n",
            "\n",
            "See the caveats in the documentation: https://pandas.pydata.org/pandas-docs/stable/user_guide/indexing.html#returning-a-view-versus-a-copy\n",
            "  final_work_df['district_id'] = final_work_df['district_id'].astype(int).astype(str)\n",
            "/tmp/ipython-input-2642120230.py:2: SettingWithCopyWarning: \n",
            "A value is trying to be set on a copy of a slice from a DataFrame.\n",
            "Try using .loc[row_indexer,col_indexer] = value instead\n",
            "\n",
            "See the caveats in the documentation: https://pandas.pydata.org/pandas-docs/stable/user_guide/indexing.html#returning-a-view-versus-a-copy\n",
            "  final_work_df['district2_id'] = final_work_df['district2_id'].fillna(0).astype(int).astype(str)\n",
            "/tmp/ipython-input-2642120230.py:10: SettingWithCopyWarning: \n",
            "A value is trying to be set on a copy of a slice from a DataFrame.\n",
            "Try using .loc[row_indexer,col_indexer] = value instead\n",
            "\n",
            "See the caveats in the documentation: https://pandas.pydata.org/pandas-docs/stable/user_guide/indexing.html#returning-a-view-versus-a-copy\n",
            "  final_work_df['area_code'] = final_work_df['district_id'] + final_work_df['district2_id']\n"
          ]
        },
        {
          "output_type": "stream",
          "name": "stdout",
          "text": [
            "final_work_status + age merge: (252306, 75)\n",
            "Final merged shape: (8, 76)\n",
            "  district_id_work district2_id_work  region_name  employer_total  \\\n",
            "0             2321                 0  青森県西津軽郡鰺ヶ沢町            3291   \n",
            "1             2323                 0   青森県西津軽郡深浦町            2574   \n",
            "2             1221                 0       北海道名寄市           11787   \n",
            "3             1222                 0       北海道三笠市            2968   \n",
            "4             1223                 0       北海道根室市           10479   \n",
            "\n",
            "   self_employed_total  family_work_total  total_workers area_code  \\\n",
            "0                  779                594           4672     23210   \n",
            "1                  750                340           3670     23230   \n",
            "2                 1277                934          14377     12210   \n",
            "3                  259                161           3400     12220   \n",
            "4                 1625               1577          13876     12230   \n",
            "\n",
            "  district_id_age district2_id_age  ...  75-79_female  80-84_female  \\\n",
            "0            2321                0  ...           486           487   \n",
            "1            2323                0  ...           459           416   \n",
            "2            1221                0  ...          1022           849   \n",
            "3            1222                0  ...           486           498   \n",
            "4            1223                0  ...          1029           721   \n",
            "\n",
            "   85-89_female  90-94_female  95-99_female  100_female  total_population  \\\n",
            "0           360           135            37           7             19684   \n",
            "1           279           136            38           7             16503   \n",
            "2           563           271            89          21             55675   \n",
            "3           321           182            59           8             17715   \n",
            "4           481           217            66          12             51805   \n",
            "\n",
            "   female_population  full_district  income_mean  \n",
            "0               5538    青森県西津軽郡鰺ヶ沢町   573.278050  \n",
            "1               4553     青森県西津軽郡深浦町   593.974763  \n",
            "2              14958         北海道名寄市   455.542383  \n",
            "3               5000         北海道三笠市   576.186315  \n",
            "4              14038         北海道根室市   431.187081  \n",
            "\n",
            "[5 rows x 76 columns]\n"
          ]
        }
      ]
    },
    {
      "cell_type": "code",
      "source": [
        "#可視化①　総労働者と収入の関係\n",
        "import matplotlib.pyplot as plt\n",
        "plt.figure(figsize=(8, 5))\n",
        "plt.scatter(final_df['total_workers'], final_df['income_mean'], alpha=0.6)\n",
        "plt.xlabel('Total Workers')\n",
        "plt.ylabel('Income Mean')\n",
        "plt.title('Total Workers vs Income Mean')\n",
        "plt.grid(True)\n",
        "plt.tight_layout()\n",
        "plt.show()\n"
      ],
      "metadata": {
        "colab": {
          "base_uri": "https://localhost:8080/",
          "height": 507
        },
        "id": "NlEsFKfPQkaG",
        "outputId": "e9c2ec8e-4ac3-4864-fc58-9ea72300aebf"
      },
      "execution_count": 8,
      "outputs": [
        {
          "output_type": "display_data",
          "data": {
            "text/plain": [
              "<Figure size 800x500 with 1 Axes>"
            ],
            "image/png": "[encoded data removed]"
          },
          "metadata": {}
        }
      ]
    },
    {
      "cell_type": "code",
      "source": [
        "#可視化②　高齢者人口比と収入の関係\n",
        "final_df['age_65plus_ratio'] = (\n",
        "    final_df['65-69'] + final_df['70-74'] +\n",
        "    final_df['75-79'] + final_df['80-84'] +\n",
        "    final_df['85-89'] + final_df['90-94'] +\n",
        "    final_df['95-99'] + final_df['100']) / final_df['total_population']\n",
        "\n",
        "plot_df = final_df[['age_65plus_ratio', 'income_mean']].dropna()\n",
        "\n",
        "plt.figure(figsize=(8, 5))\n",
        "plt.scatter(plot_df['age_65plus_ratio'], plot_df['income_mean'], alpha=0.6, color='orange')\n",
        "plt.xlabel('Age 65+ Ratio')\n",
        "plt.ylabel('Income Mean')\n",
        "plt.title('Age 65+ Population Ratio vs Income Mean')\n",
        "plt.grid(True)\n",
        "plt.tight_layout()\n",
        "plt.show()"
      ],
      "metadata": {
        "colab": {
          "base_uri": "https://localhost:8080/",
          "height": 507
        },
        "id": "DrmR10__3DYj",
        "outputId": "48bee64d-5b34-4ee5-c4dd-8e4da393406a"
      },
      "execution_count": 18,
      "outputs": [
        {
          "output_type": "display_data",
          "data": {
            "text/plain": [
              "<Figure size 800x500 with 1 Axes>"
            ],
            "image/png": "[encoded data removed]"
          },
          "metadata": {}
        }
      ]
    },
    {
      "cell_type": "code",
      "source": [
        "from sklearn.model_selection import train_test_split\n",
        "from sklearn.metrics import mean_squared_error, r2_score\n",
        "\n",
        "# 数値列のみ抽出\n",
        "num_df = final_df.select_dtypes(include=[np.number])\n",
        "\n",
        "# 欠損値処理\n",
        "num_df = num_df.fillna(0)\n",
        "\n",
        "# 説明変数と目的変数\n",
        "X = num_df.drop(columns=['income_mean'])\n",
        "y = num_df['income_mean']\n",
        "\n",
        "# 学習用・テスト用分割\n",
        "X_train, X_test, y_train, y_test = train_test_split(X, y, test_size=0.2, random_state=42)"
      ],
      "metadata": {
        "id": "w1LjPtNm-LSX"
      },
      "execution_count": 22,
      "outputs": []
    },
    {
      "cell_type": "code",
      "source": [
        "from sklearn.linear_model import LinearRegression\n",
        "from sklearn.tree import DecisionTreeRegressor\n",
        "from sklearn.ensemble import RandomForestRegressor\n",
        "from sklearn.neighbors import KNeighborsRegressor\n",
        "from sklearn.metrics import mean_squared_error, mean_absolute_error\n",
        "\n",
        "# 4つのモデルを用意\n",
        "models = {\"LinearRegression\": LinearRegression() ,\n",
        "    \"DecisionTree\": DecisionTreeRegressor(max_depth=5, random_state=42),\n",
        "    \"RandomForest\": RandomForestRegressor(n_estimators=200, random_state=42),\n",
        "    \"KNeighbors\": KNeighborsRegressor(n_neighbors=5)}\n",
        "\n",
        "results = {}\n",
        "\n",
        "for name, model in models.items():\n",
        "    model.fit(X_train, y_train)\n",
        "    preds = model.predict(X_test)\n",
        "    rmse = np.sqrt(mean_squared_error(y_test, preds))\n",
        "    r2 = r2_score(y_test, preds)\n",
        "    results[name] = {\"RMSE\": rmse, \"R2\": r2}\n",
        "\n",
        "results_df = pd.DataFrame(results).T\n",
        "print(results_df)\n"
      ],
      "metadata": {
        "colab": {
          "base_uri": "https://localhost:8080/"
        },
        "id": "WkUsOifA_ndo",
        "outputId": "a875ec88-e8d6-42ae-fd85-731ecfd28d0b"
      },
      "execution_count": 23,
      "outputs": [
        {
          "output_type": "stream",
          "name": "stdout",
          "text": [
            "                       RMSE        R2\n",
            "LinearRegression  41.560921  0.747574\n",
            "DecisionTree      22.869165  0.923570\n",
            "RandomForest      23.626402  0.918425\n",
            "KNeighbors        90.271956 -0.190884\n"
          ]
        }
      ]
    },
    {
      "cell_type": "code",
      "source": [
        "#4つのモデルを比較したところ、DecisionTree（RMSE=22.87, R²=0.9236）とRandomForest（RMSE=23.63, R²=0.9184）が最も良い性能を示した。\n",
        "#KNeighborsはRMSEが大きく、今回のデータには適合しなかった。\n",
        "\n",
        "\n",
        "#モデルの精度を向上させるため、人口や労働者数などの絶対値を、その地域の総人口で割った比率に変換した。\n",
        "#例：労働力率（総労働者数 ÷ 総人口）、高齢者比率（65歳以上人口 ÷ 総人口）、就業形態構成比（雇用者比、自営業比、家族従業者比）、性比（女性人口 ÷ 総人口）\n",
        "#これにより、地域ごとの規模の差を除き、構造的な違いをモデルが学習しやすくなった。\n",
        "\n",
        "\n",
        "#決定木とランダムフォレストは非線形な関係や特徴量間の相互作用を捉えることができ、人口構成や労働構成と収入の複雑な関係を表現できるため、精度が高かった。\n",
        "#特にランダムフォレストは過学習を抑制でき、汎用性が高いため最終モデルとして選定した。"
      ],
      "metadata": {
        "id": "euKHoE_gCO6n"
      },
      "execution_count": null,
      "outputs": []
    }
  ],
  "metadata": {
    "kernelspec": {
      "display_name": "base",
      "language": "python",
      "name": "python3"
    },
    "language_info": {
      "codemirror_mode": {
        "name": "ipython",
        "version": 3
      },
      "file_extension": ".py",
      "mimetype": "text/x-python",
      "name": "python",
      "nbconvert_exporter": "python",
      "pygments_lexer": "ipython3",
      "version": "3.9.7"
    },
    "orig_nbformat": 4,
    "colab": {
      "provenance": []
    }
  },
  "nbformat": 4,
  "nbformat_minor": 0
}